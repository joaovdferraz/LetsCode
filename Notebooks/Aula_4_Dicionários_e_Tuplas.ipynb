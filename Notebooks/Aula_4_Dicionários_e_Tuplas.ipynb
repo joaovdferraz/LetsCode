{
  "cells": [
    {
      "cell_type": "markdown",
      "metadata": {
        "id": "XIWnlH32Mm3f"
      },
      "source": [
        "# Estrutura de Dados\n",
        "Vocês já conhecem as variáveis e as listas, mas no Python vamos além disso!<br>\n",
        "Hoje aprenderemos novas maneiras de armazenar e esturar nossos dados.<br><br>\n",
        "<div>\n",
        "<img src=\"https://www.phylos.net/wp-content/uploads/2021/03/EstruturaDado.jpg\" width=\"500\"/>\n",
        "</div>"
      ]
    },
    {
      "cell_type": "markdown",
      "metadata": {
        "id": "7KwNZRghMm3l"
      },
      "source": [
        "## 📍 Tópicos de Hoje 📍\n",
        "<br>\n",
        "\n",
        "👶 [Tuplas: O Que São e Por Que Usar](#um)\n",
        "\n",
        "🚶‍ [Dicionários: Muito Além do Livro que Você Usou na Escola](#dois)\n",
        "\n",
        "🏃 [Estrutura de Dados Aplicadas às Funções](#tres)\n",
        "    \n",
        "🏆 [Exercícios](#quatro)\n",
        "\n",
        "🚀 [O Futuro...](#cinco)"
      ]
    },
    {
      "cell_type": "markdown",
      "metadata": {
        "id": "ugZnb1ZdMm3m"
      },
      "source": [
        "## 📜  Tuplas: O Que São e Por Que Usar 📜 <a class=\"anchor\" id=\"um\"></a>\n",
        "<br>\n",
        "\n",
        "<div align=\"justify\">\n",
        "&emsp; Tuplas podem ser pensadas como listas mas com algumas restrições: não podemos alterar uma tupla nem em ordem, nem conteúdo. Por que deveriamos usa-las então? Velocidade e organização de código. Um programador ao ver uma tupla sabe que seu conteúdo não pode ser alterado indiscriminadamente, além disso, a capacidade de alteração numa lista exige algoritmos mais complexos e lentos, então trabalhar com tuplas nos permite maior desempenho.<br>\n",
        "&emsp; As tuplas são declaradas entre parênteses, possuem algumas funções nativas semelhantes as listas, como len() e type(), e também são consultadas da mesma maneira com os colchetes. Além disso é importante notar que tuplas aceitam dados mistos dentro de sí.\n",
        "</div>"
      ]
    },
    {
      "cell_type": "code",
      "execution_count": 1,
      "metadata": {
        "colab": {
          "base_uri": "https://localhost:8080/"
        },
        "id": "tcZMksDiMm3n",
        "outputId": "724a282a-8838-4c8f-a958-09837df2f653"
      },
      "outputs": [
        {
          "name": "stdout",
          "output_type": "stream",
          "text": [
            "Pera\n",
            "5\n",
            "<class 'tuple'>\n"
          ]
        }
      ],
      "source": [
        "nossaPrimeiraTupla = (\"Manga\", \"Pera\", 7, True, 0.34)\n",
        "print(nossaPrimeiraTupla[1])\n",
        "print(len(nossaPrimeiraTupla))\n",
        "print(type(nossaPrimeiraTupla))"
      ]
    },
    {
      "cell_type": "markdown",
      "metadata": {
        "id": "sCooI2MjMm3o"
      },
      "source": [
        "---\n",
        "<div align=\"justify\">\n",
        "&emsp; Para alterarmos uma tupla precisamos fazer um <i>cast</i> para listas, alterar a lista, e retornar para uma tupla.\n",
        "</div>"
      ]
    },
    {
      "cell_type": "code",
      "execution_count": 2,
      "metadata": {
        "colab": {
          "base_uri": "https://localhost:8080/"
        },
        "id": "Io7baH-cMm3p",
        "outputId": "56fa357e-b720-4feb-f172-bbd68cfc26c5"
      },
      "outputs": [
        {
          "name": "stdout",
          "output_type": "stream",
          "text": [
            "Tupla antes de alterar: ('Manga', 'Pera', 7, True, 0.34)\n",
            "Tupla depois de alterar: ('Manga', 'Pera', 7, True, 0.34, 'AlteracaoNaTupla')\n"
          ]
        }
      ],
      "source": [
        "print(f\"Tupla antes de alterar: {nossaPrimeiraTupla}\")\n",
        "\n",
        "listaAuxiliar = list(nossaPrimeiraTupla)\n",
        "listaAuxiliar.append(\"AlteracaoNaTupla\")\n",
        "nossaPrimeiraTupla = tuple(listaAuxiliar)\n",
        "\n",
        "print(f\"Tupla depois de alterar: {nossaPrimeiraTupla}\")"
      ]
    },
    {
      "cell_type": "markdown",
      "metadata": {
        "id": "O87bDO5KMm3p"
      },
      "source": [
        "---\n",
        "<div align=\"justify\">\n",
        "&emsp; Tuplas podem ser desempacotadas, isso é, desmembrar seus valores para variaveis individuais, ou mesmo para as listas usando <b>*</b>.\n",
        "</div>"
      ]
    },
    {
      "cell_type": "code",
      "execution_count": 3,
      "metadata": {
        "colab": {
          "base_uri": "https://localhost:8080/"
        },
        "id": "Uzucp0gDMm3q",
        "outputId": "4f2cacbe-e6ff-4fe6-90d4-944d2f05f03e"
      },
      "outputs": [
        {
          "name": "stdout",
          "output_type": "stream",
          "text": [
            "5\n",
            "10\n"
          ]
        }
      ],
      "source": [
        "x, y = 5, 10\n",
        "print(x)\n",
        "print(y)"
      ]
    },
    {
      "cell_type": "code",
      "execution_count": 4,
      "metadata": {
        "colab": {
          "base_uri": "https://localhost:8080/"
        },
        "id": "Zv-BHmiKMm3r",
        "outputId": "86622962-7e2f-4248-e960-1884980b293f"
      },
      "outputs": [
        {
          "name": "stdout",
          "output_type": "stream",
          "text": [
            "Manga\n",
            "Pera\n",
            "[7]\n",
            "True\n",
            "0.34\n"
          ]
        }
      ],
      "source": [
        "nossaPrimeiraTupla = (\"Manga\", \"Pera\", 7, True, 0.34)\n",
        "(fruta1, fruta2, *restoTupla, vddFalso, ultimoNumero) = nossaPrimeiraTupla\n",
        "print(fruta1)\n",
        "print(fruta2)\n",
        "print(restoTupla) # Note que restoTupla é uma lista com tudo que sobrou do desempacotamento\n",
        "print(vddFalso) \n",
        "print(ultimoNumero) "
      ]
    },
    {
      "cell_type": "markdown",
      "metadata": {
        "id": "vQ2li_GYMm3s"
      },
      "source": [
        "---\n",
        "<div align=\"justify\">\n",
        "&emsp; Tuplas podem ser percorridas em loop igualmente as listas, além disso podemos concatenar tuplas com o + e multiplicar elas por inteiros usando *.\n",
        "</div>"
      ]
    },
    {
      "cell_type": "code",
      "execution_count": 5,
      "metadata": {
        "colab": {
          "base_uri": "https://localhost:8080/"
        },
        "id": "0ttGu5ayMm3t",
        "outputId": "a908c225-3807-40a0-fbd0-310ecef51252"
      },
      "outputs": [
        {
          "name": "stdout",
          "output_type": "stream",
          "text": [
            "Manga\n",
            "Pera\n",
            "7\n",
            "True\n",
            "0.34\n",
            "\n",
            "Tupla concatenada: ('Manga', 'Pera', 7, True, 0.34, 'Brian', 10)\n",
            "Tupla dobrada: ('Manga', 'Pera', 7, True, 0.34, 'Brian', 10, 'Manga', 'Pera', 7, True, 0.34, 'Brian', 10)\n"
          ]
        }
      ],
      "source": [
        "nossaPrimeiraTupla = (\"Manga\", \"Pera\", 7, True, 0.34)\n",
        "for item in nossaPrimeiraTupla:\n",
        "    print(item)\n",
        "print()\n",
        "    \n",
        "tuplaDois = (\"Brian\", 10)\n",
        "tuplaTres = nossaPrimeiraTupla + tuplaDois\n",
        "print(f\"Tupla concatenada: {tuplaTres}\")\n",
        "\n",
        "tuplaTres = tuplaTres * 2\n",
        "print(f\"Tupla dobrada: {tuplaTres}\")"
      ]
    },
    {
      "cell_type": "markdown",
      "metadata": {
        "id": "COHDbSXBMm3t"
      },
      "source": [
        "---\n",
        "<div align=\"justify\">\n",
        "&emsp; Por fim tuplas também possuem os métodos count() e index() que, respectivamente, contam quantos dados iguais ao que passarmos a tupla possui, e em qual <i>index</i> está o primeiro dado igual ao que passamos.\n",
        "</div>"
      ]
    },
    {
      "cell_type": "code",
      "execution_count": 6,
      "metadata": {
        "colab": {
          "base_uri": "https://localhost:8080/"
        },
        "id": "WdtOa5aDMm3u",
        "outputId": "56773b2b-524f-4130-8ce6-c370813ef27e"
      },
      "outputs": [
        {
          "name": "stdout",
          "output_type": "stream",
          "text": [
            "Manga aparece 2 vezes na tupla\n",
            "O primeiro True está na index \"3\"\n"
          ]
        }
      ],
      "source": [
        "repeticoesManga = tuplaTres.count(\"Manga\")\n",
        "print(f\"Manga aparece {repeticoesManga} vezes na tupla\")\n",
        "\n",
        "indexPrimeiroTrue = tuplaTres.index(True)\n",
        "print(f\"O primeiro True está na index \\\"{indexPrimeiroTrue}\\\"\")"
      ]
    },
    {
      "cell_type": "markdown",
      "metadata": {
        "id": "BirzEVMXMm3u"
      },
      "source": [
        "## 📚 Dicionários: Muito Além do Livro que Você Usou na Escola 📚 <a class=\"anchor\" id=\"dois\"></a>\n",
        "<br>\n",
        "<div align=\"justify\">\n",
        "&emsp; Dicionários também podem ser pensados analogamente a listas, mas não pensaremos mais no conceito de <i>index</i> e sim em palavras-chave. Assim como um dicionário real possui palavras e suas definições, um dicionário em Python também! Entretanto devemos nos atentar que um dicionário não pode ter duas definições para uma mesma palavra (mas pode ter uma definição única definida por uma lista!)<br>\n",
        "&emsp; Dicionarios são declarados entre chaves, e acessados com colchetes (usando as palavras-chave e não as <i>indexes</i>) ou com a função get() usando a palavra-chave como parâmetro. Além disso com a função keys() podemos listar todas as palavras-chave de um dado dicionário.\n",
        "</div>"
      ]
    },
    {
      "cell_type": "code",
      "execution_count": 7,
      "metadata": {
        "colab": {
          "base_uri": "https://localhost:8080/"
        },
        "id": "TiMetxokMm3v",
        "outputId": "cd4e9e3e-cf73-4dc6-a98f-0b7920228ba3"
      },
      "outputs": [
        {
          "name": "stdout",
          "output_type": "stream",
          "text": [
            "Dicionario: {'nome': 'Lucas', 'idade': 32, 'profissao': 'Empresario', 'filhos': ['Ana', 'Claudio', 'Luiza']} \n",
            "\n",
            "Chaves: dict_keys(['nome', 'idade', 'profissao', 'filhos']) \n",
            "\n",
            "Nome: Lucas \n",
            "\n",
            "Valores: dict_values(['Lucas', 32, 'Empresario', ['Ana', 'Claudio', 'Luiza']]) \n",
            "\n",
            "Itens: dict_items([('nome', 'Lucas'), ('idade', 32), ('profissao', 'Empresario'), ('filhos', ['Ana', 'Claudio', 'Luiza'])])\n"
          ]
        }
      ],
      "source": [
        "pessoa = {\n",
        "    \"nome\": \"Lucas\",\n",
        "    \"idade\": 32,\n",
        "    \"profissao\": \"Empresario\",\n",
        "    \"filhos\": [\"Ana\", \"Claudio\", \"Luiza\"]\n",
        "}\n",
        "\n",
        "print(\"Dicionario:\",pessoa,\"\\n\")\n",
        "print(\"Chaves:\",pessoa.keys(),\"\\n\")\n",
        "print(\"Nome:\",pessoa[\"nome\"],\"\\n\")\n",
        "\n",
        "# values() retorna os valores armezenados\n",
        "print(\"Valores:\",pessoa.values(),\"\\n\")\n",
        "# items() retorna uma lista de tuplas contendo palavra chave e valor associado\n",
        "print(\"Itens:\",pessoa.items())"
      ]
    },
    {
      "cell_type": "code",
      "execution_count": 8,
      "metadata": {
        "id": "v457WfdrMm3v"
      },
      "outputs": [
        {
          "data": {
            "text/plain": [
              "'idade'"
            ]
          },
          "execution_count": 8,
          "metadata": {},
          "output_type": "execute_result"
        }
      ],
      "source": [
        "list(pessoa.keys())[1]"
      ]
    },
    {
      "cell_type": "markdown",
      "metadata": {
        "id": "MdlyiJ_KMm3w"
      },
      "source": [
        "---\n",
        "<div align=\"justify\">\n",
        "&emsp; Podemos adicionar itens de um dicionário usando <b>nomeDic[\"novaPalavraChave\"] = valor</b>, podemos atualizar da mesma maneira mas usando uma palavra-chave já existente, ou mesmo usar o método update() com o parâmetro <b>{\"palavraChave\": novoValor}</b>. Já para apagar itens temos várias maneiras: podemos usar o método pop() com a palavra-chave a ser deletada como parâmetro, ou o método popitem() para deletar o último item, ou mesmo a <b>del dicionario[\"chaveParaDeletar\"]</b>, por fim temos o método clear() que limpa o dicionário todo.<br>\n",
        "</div>"
      ]
    },
    {
      "cell_type": "code",
      "execution_count": 9,
      "metadata": {
        "colab": {
          "base_uri": "https://localhost:8080/"
        },
        "id": "ozbJnlpYMm3w",
        "outputId": "cc1d2e61-d57a-4f4a-e866-d9089db9779f"
      },
      "outputs": [
        {
          "name": "stdout",
          "output_type": "stream",
          "text": [
            "Dicionario inicialmente: {'nome': 'Lucas', 'idade': 32, 'profissao': 'Empresario', 'filhos': ['Ana', 'Claudio', 'Luiza']} \n",
            "\n",
            "Dicionario incrementado: {'nome': 'Lucas', 'idade': 32, 'profissao': 'Empresario', 'filhos': ['Ana', 'Claudio', 'Luiza'], 'Nacionalidade': 'Brasileiro'} \n",
            "\n",
            "Dicionario atualizado: {'nome': 'Pedro', 'idade': 35, 'profissao': 'Empresario', 'filhos': ['Ana', 'Claudio', 'Luiza'], 'Nacionalidade': 'Chileno', 'Cachorro': 'Billy'} \n",
            "\n",
            "Dicionario sem nome: {'idade': 35, 'profissao': 'Empresario', 'filhos': ['Ana', 'Claudio', 'Luiza'], 'Nacionalidade': 'Chileno', 'Cachorro': 'Billy'} \n",
            "\n",
            "Dicionario ultima chave: {'idade': 35, 'profissao': 'Empresario', 'filhos': ['Ana', 'Claudio', 'Luiza'], 'Nacionalidade': 'Chileno'} \n",
            "\n",
            "Dicionario sem profissao: {'idade': 35, 'filhos': ['Ana', 'Claudio', 'Luiza'], 'Nacionalidade': 'Chileno'} \n",
            "\n",
            "Dicionario vazio: {} \n",
            "\n"
          ]
        }
      ],
      "source": [
        "print(\"Dicionario inicialmente:\",pessoa,\"\\n\")\n",
        "\n",
        "# adicionar palavra chave\n",
        "pessoa[\"Nacionalidade\"] = \"Brasileiro\"\n",
        "\n",
        "print(\"Dicionario incrementado:\",pessoa,\"\\n\")\n",
        "\n",
        "# alterar palavras chaves\n",
        "pessoa[\"nome\"] = \"Pedro\"\n",
        "pessoa.update({\"idade\": 35, \"Nacionalidade\": \"Chileno\", \"Cachorro\":\"Billy\"})\n",
        "\n",
        "print(\"Dicionario atualizado:\",pessoa,\"\\n\")\n",
        "\n",
        "# apagar palavras chaves\n",
        "pessoa.pop(\"nome\")\n",
        "print(\"Dicionario sem nome:\",pessoa,\"\\n\")\n",
        "\n",
        "pessoa.popitem()\n",
        "print(\"Dicionario ultima chave:\",pessoa,\"\\n\")\n",
        "\n",
        "del pessoa[\"profissao\"]\n",
        "print(\"Dicionario sem profissao:\",pessoa,\"\\n\")\n",
        "\n",
        "pessoa.clear()\n",
        "print(\"Dicionario vazio:\",pessoa,\"\\n\")"
      ]
    },
    {
      "cell_type": "markdown",
      "metadata": {
        "id": "HjNQFa0BMm3w"
      },
      "source": [
        "---\n",
        "<div align=\"justify\">\n",
        "&emsp; Dicionário podem ser usados em <i>loops</i> normalmente também, apenas uma atenção ao uso juntamente do  método items() que pode ser interessante.<br>\n",
        "</div>"
      ]
    },
    {
      "cell_type": "code",
      "execution_count": 10,
      "metadata": {
        "colab": {
          "base_uri": "https://localhost:8080/"
        },
        "id": "u90OVqeWMm3x",
        "outputId": "55591ef2-1273-420c-8f63-397a376cea15"
      },
      "outputs": [
        {
          "name": "stdout",
          "output_type": "stream",
          "text": [
            "Lucas\n",
            "32\n",
            "Empresario\n",
            "Lucas\n",
            "32\n",
            "Empresario\n",
            "\n",
            "A chave 'nome' possui valor: 'Lucas'\n",
            "A chave 'idade' possui valor: '32'\n",
            "A chave 'profissao' possui valor: 'Empresario'\n"
          ]
        }
      ],
      "source": [
        "pessoa = {\n",
        "    \"nome\": \"Lucas\",\n",
        "    \"idade\": 32,\n",
        "    \"profissao\": \"Empresario\"\n",
        "}\n",
        "\n",
        "for i in pessoa:\n",
        "    print(pessoa[i])\n",
        "    \n",
        "for dado in pessoa.values():\n",
        "    print(dado)\n",
        "    \n",
        "# lista = [1, 2, 3]\n",
        "# for i in range(len(lista)):\n",
        "#     print(lista[i])\n",
        "\n",
        "\n",
        "print()\n",
        "    \n",
        "for chave, dado in pessoa.items():\n",
        "    print(f\"A chave \\'{chave}\\' possui valor: \\'{dado}\\'\")"
      ]
    },
    {
      "cell_type": "markdown",
      "metadata": {
        "id": "EJSsyff6Mm3x"
      },
      "source": [
        "---\n",
        "<div align=\"justify\">\n",
        "&emsp; Assim como listas podem armazenar listas, dicionários podem armazenar dicionários, formando dicionários de mais de uma dimensão. Veja o exemplo:<br>\n",
        "</div>"
      ]
    },
    {
      "cell_type": "code",
      "execution_count": 11,
      "metadata": {
        "colab": {
          "base_uri": "https://localhost:8080/"
        },
        "id": "pRV7xpHjMm3x",
        "outputId": "41c381cc-a0f2-47a8-8add-139d69a61dd7"
      },
      "outputs": [
        {
          "name": "stdout",
          "output_type": "stream",
          "text": [
            "Primeiro filho: Gabriel\n"
          ]
        }
      ],
      "source": [
        "filhos = {\n",
        "  \"filho1\" : {\n",
        "    \"nome\" : \"Gabriel\",\n",
        "    \"ano\" : 2004\n",
        "  },\n",
        "  \"filho2\" : {\n",
        "    \"nome\" : \"Pedro\",\n",
        "    \"ano\" : 2007\n",
        "  },\n",
        "  \"filho3\" : {\n",
        "    \"nome\" : \"Gustavo\",\n",
        "    \"ano\" : 2011\n",
        "  }\n",
        "}\n",
        "\n",
        "print(\"Primeiro filho:\", filhos[\"filho1\"][\"nome\"])"
      ]
    },
    {
      "cell_type": "code",
      "execution_count": 12,
      "metadata": {
        "colab": {
          "base_uri": "https://localhost:8080/"
        },
        "id": "VyK6xzWFMm3y",
        "outputId": "35a28aa5-24a2-40fe-ca00-ec5d462a7a72"
      },
      "outputs": [
        {
          "name": "stdout",
          "output_type": "stream",
          "text": [
            "Dado: nome - Gabriel\n",
            "Dado: ano - 2004\n",
            "Dado: nome - Pedro\n",
            "Dado: ano - 2007\n",
            "Dado: nome - Gustavo\n",
            "Dado: ano - 2011\n"
          ]
        }
      ],
      "source": [
        "for filho in filhos.values():\n",
        "    for chave, dado in filho.items(): \n",
        "        print(f\"Dado: {chave} - {dado}\")"
      ]
    },
    {
      "cell_type": "markdown",
      "metadata": {
        "id": "QMfqWLLDMm3y"
      },
      "source": [
        "---\n",
        "<div align=\"justify\">\n",
        "&emsp; No contexto de dicionários o comando <b>in</b> tem muita força. Imagine que você quer adicionar valores em uma chave mas não sabe sequer se ela existe naquele contexto, como poderiamos fazer?<br>\n",
        "</div>"
      ]
    },
    {
      "cell_type": "code",
      "execution_count": 13,
      "metadata": {
        "colab": {
          "base_uri": "https://localhost:8080/"
        },
        "id": "wOcTfWAEMm3y",
        "outputId": "a68cef30-8e78-4d09-8923-c69dd13c2c43"
      },
      "outputs": [
        {
          "name": "stdout",
          "output_type": "stream",
          "text": [
            "{'nome': 'Brian', 'escola': 'USP', 'materias': ['Calculo', 'Mecanica', 'Algebra Linear', 'Intro. Comp.']}\n"
          ]
        }
      ],
      "source": [
        "estudante = {\n",
        "    'nome': \"Brian\",\n",
        "    'escola': \"USP\"\n",
        "}\n",
        "\n",
        "materias = [\"Calculo\", \"Mecanica\", \"Algebra Linear\", \"Intro. Comp.\"]\n",
        "\n",
        "for materia in materias:\n",
        "    if 'materias' in estudante:\n",
        "        estudante[\"materias\"].append(materia)\n",
        "    else:\n",
        "        estudante[\"materias\"] = [materia]\n",
        "        \n",
        "print(estudante)"
      ]
    },
    {
      "cell_type": "markdown",
      "metadata": {
        "id": "FhEBw8GvMm3z"
      },
      "source": [
        "## 🎯 Exercícios 🎯 <a class=\"anchor\" id=\"quatro\"></a>\n",
        "\n",
        "**1)** Escreva uma função que conta a quantidade de vogais em um texto e armazena tal quantidade em um dicionário, onde a chave é a vogal considerada."
      ]
    },
    {
      "cell_type": "code",
      "execution_count": 25,
      "metadata": {
        "colab": {
          "base_uri": "https://localhost:8080/"
        },
        "id": "XYFKYtqAMm3z",
        "outputId": "7fe952a5-8cb1-4196-8deb-1701f0c764f4"
      },
      "outputs": [
        {
          "name": "stdout",
          "output_type": "stream",
          "text": [
            "{'a': 3, 'e': 2, 'i': 1, 'o': 2, 'u': 1}\n"
          ]
        }
      ],
      "source": [
        "def conta_vogal(texto):\n",
        "  vogais = {\n",
        "      \"a\":0,\n",
        "      \"e\":0,\n",
        "      \"i\":0,\n",
        "      \"o\":0,\n",
        "      \"u\":0\n",
        "  }\n",
        "  for vogal in vogais:\n",
        "    vogais[vogal]=texto.count(vogal)\n",
        "  return vogais\n",
        "\n",
        "texto = \"vamos testar se funciona\"\n",
        "a = conta_vogal(texto)\n",
        "print(a)"
      ]
    },
    {
      "cell_type": "markdown",
      "metadata": {
        "id": "bHjbjfl5Mm3z"
      },
      "source": [
        "**2)** Escreva um programa que lê duas notas de vários alunos e armazena tais notas em um dicionário, onde a chave é o nome\n",
        "do aluno. A entrada de dados deve terminar quando for lida uma string vazia como nome. Escreva uma função que retorna a média do aluno, dado seu nome. "
      ]
    },
    {
      "cell_type": "code",
      "execution_count": 15,
      "metadata": {
        "colab": {
          "base_uri": "https://localhost:8080/"
        },
        "id": "9l8O1Cz8Mm3z",
        "outputId": "90981e74-48d4-4eb5-b851-f59dd0af1aaa"
      },
      "outputs": [
        {
          "name": "stdout",
          "output_type": "stream",
          "text": [
            "\n"
          ]
        },
        {
          "ename": "KeyError",
          "evalue": "''",
          "output_type": "error",
          "traceback": [
            "\u001b[1;31m---------------------------------------------------------------------------\u001b[0m",
            "\u001b[1;31mKeyError\u001b[0m                                  Traceback (most recent call last)",
            "\u001b[1;32mc:\\Users\\diasf\\OneDrive\\Desktop\\lets\\repositórios\\LetsCode\\Notebooks\\Aula_4_Dicionários_e_Tuplas.ipynb Cell 29'\u001b[0m in \u001b[0;36m<cell line: 20>\u001b[1;34m()\u001b[0m\n\u001b[0;32m     <a href='vscode-notebook-cell:/c%3A/Users/diasf/OneDrive/Desktop/lets/reposit%C3%B3rios/LetsCode/Notebooks/Aula_4_Dicion%C3%A1rios_e_Tuplas.ipynb#ch0000028?line=16'>17</a>\u001b[0m nome \u001b[39m=\u001b[39m \u001b[39minput\u001b[39m(\u001b[39m\"\u001b[39m\u001b[39mDigite o nome do aluno que quer saber a média \u001b[39m\u001b[39m\"\u001b[39m)\n\u001b[0;32m     <a href='vscode-notebook-cell:/c%3A/Users/diasf/OneDrive/Desktop/lets/reposit%C3%B3rios/LetsCode/Notebooks/Aula_4_Dicion%C3%A1rios_e_Tuplas.ipynb#ch0000028?line=18'>19</a>\u001b[0m \u001b[39mprint\u001b[39m()\n\u001b[1;32m---> <a href='vscode-notebook-cell:/c%3A/Users/diasf/OneDrive/Desktop/lets/reposit%C3%B3rios/LetsCode/Notebooks/Aula_4_Dicion%C3%A1rios_e_Tuplas.ipynb#ch0000028?line=19'>20</a>\u001b[0m média \u001b[39m=\u001b[39m \u001b[39msum\u001b[39m(notas[nome])\u001b[39m/\u001b[39m\u001b[39mlen\u001b[39m(notas[nome])\n\u001b[0;32m     <a href='vscode-notebook-cell:/c%3A/Users/diasf/OneDrive/Desktop/lets/reposit%C3%B3rios/LetsCode/Notebooks/Aula_4_Dicion%C3%A1rios_e_Tuplas.ipynb#ch0000028?line=20'>21</a>\u001b[0m \u001b[39mprint\u001b[39m(\u001b[39mf\u001b[39m\u001b[39m\"\u001b[39m\u001b[39mA média de \u001b[39m\u001b[39m{\u001b[39;00mnome\u001b[39m}\u001b[39;00m\u001b[39m é \u001b[39m\u001b[39m{\u001b[39;00mmédia\u001b[39m}\u001b[39;00m\u001b[39m\"\u001b[39m)\n",
            "\u001b[1;31mKeyError\u001b[0m: ''"
          ]
        }
      ],
      "source": [
        "notas = {}\n",
        "\n",
        "nota1 = 0\n",
        "nota2=0\n",
        "nome = \"a\"\n",
        "\n",
        "while nome!= \"\":\n",
        "  nome=input(\"Digite o nome do aluno ou digite ou aperte enter para encerrar o programa \")\n",
        "  if nome in notas:\n",
        "    print(\"Nome já está registrado no sistema, digite um nome diferente\")\n",
        "    continue\n",
        "  if nome != \"\":\n",
        "    nota1 = int(input(\"Digite a primeira nota do aluno \"))\n",
        "    nota2 = int(input(\"Digite a segunda nota do aluno \"))\n",
        "    notas[nome]={nota1,nota2}\n",
        "    \n",
        "nome = input(\"Digite o nome do aluno que quer saber a média \")\n",
        "\n",
        "print()\n",
        "média = sum(notas[nome])/len(notas[nome])\n",
        "print(f\"A média de {nome} é {média}\")\n",
        "\n",
        "\n"
      ]
    },
    {
      "cell_type": "markdown",
      "metadata": {
        "id": "6TYVxb0VMm3z"
      },
      "source": [
        "**3)** Uma pista de Kart permite 10 voltas para cada um de 6 corredores. Escreva um programa que leia todos os tempos\n",
        "em segundos e os guarde em um dicionário, onde a chave é o nome do corredor. Ao final diga de quem foi a melhor volta da\n",
        "prova e em que volta; e ainda a classificação final em ordem. O campeão é o que tem a menor média de\n",
        "tempos. (Para facilitar use listas no código e não trabalhe com _input_).\n",
        "\n",
        "Dica: Para ordenar uma lista bidimensional usem o paramêtro \"key= lambda x: x[<i>index referência</i>]\" no método de sort."
      ]
    },
    {
      "cell_type": "code",
      "execution_count": null,
      "metadata": {
        "colab": {
          "base_uri": "https://localhost:8080/"
        },
        "id": "MlT7TPveMm3z",
        "outputId": "44fb2bce-0507-4904-aec2-28a7c41f74a5"
      },
      "outputs": [
        {
          "name": "stdout",
          "output_type": "stream",
          "text": [
            "['Marcos', 'Carlos', 'Joao', 'Mario', 'Mario', 'Roberto', 'Marcelo']\n",
            "[33.8, 35.3, 35.7, 36.1, 36.1, 37.2, 46.5]\n",
            "A menor volta foi a volta 10 com um tempo de 18 do piloto Roberto\n"
          ]
        }
      ],
      "source": [
        "tempos = {\n",
        "  \"Mario\" : (30,40,34,33,35,34,42,41,40,32),\n",
        "  \"Joao\" : (28,45,42,44,25,26,27,33,39,48),\n",
        "  \"Marcos\" : (29,32,35,36,50,42,28,29,27,30),\n",
        "  \"Carlos\" : (33,50,42,41,22,46,28,29,32,30),\n",
        "  \"Roberto\" : (32,28,65,42,43,52,43,20,29,18),\n",
        "  \"Marcelo\" : (65,62,63,41,52,78,20,25,29,30),\n",
        "}\n",
        "menor_volta = 100\n",
        "voltan = 0\n",
        "média = 0\n",
        "corredor_menor_volta = \"\"\n",
        "ordem_corredores = []\n",
        "média_corredores =[]\n",
        "\n",
        "for nome,tempo in tempos.items():\n",
        "  média = sum(tempo)/len(tempo)\n",
        "  if not ordem_corredores :\n",
        "    ordem_corredores.append(nome)\n",
        "    média_corredores.append(média)\n",
        "  for tempos in média_corredores:    \n",
        "    if média < tempos:\n",
        "      a=média_corredores.index(tempos)      \n",
        "      ordem_corredores.insert(a,nome)\n",
        "      média_corredores.insert(a,média)\n",
        "      break\n",
        "  if média >= média_corredores[-1]:\n",
        "    média_corredores.append(média)\n",
        "    ordem_corredores.append(nome)\n",
        "  for volta in tempo:\n",
        "    if volta<menor_volta:\n",
        "      menor_volta=volta\n",
        "      voltan = tempo.index(volta)+1\n",
        "      corredor_menor_volta = nome\n",
        "\n",
        "print(ordem_corredores)\n",
        "print(média_corredores)\n",
        "print(f\"A menor volta foi a volta {voltan} com um tempo de {menor_volta} do piloto {corredor_menor_volta}\")"
      ]
    },
    {
      "cell_type": "code",
      "execution_count": null,
      "metadata": {
        "id": "zJzCptGzr5DK"
      },
      "outputs": [],
      "source": []
    },
    {
      "cell_type": "code",
      "execution_count": 44,
      "metadata": {
        "id": "Vyzwz0Wny_3X"
      },
      "outputs": [
        {
          "name": "stdout",
          "output_type": "stream",
          "text": [
            "[['Marcos', 33.8], ['Carlos', 35.3], ['Joao', 35.7], ['Mario', 36.1], ['Roberto', 37.2], ['Marcelo', 46.5]]\n",
            "Marcos\n"
          ]
        }
      ],
      "source": [
        "tempos = {\n",
        "  \"Mario\" : (30,40,34,33,35,34,42,41,40,32),\n",
        "  \"Joao\" : (28,45,42,44,25,26,27,33,39,48),\n",
        "  \"Marcos\" : (29,32,35,36,50,42,28,29,27,30),\n",
        "  \"Carlos\" : (33,50,42,41,22,46,28,29,32,30),\n",
        "  \"Roberto\" : (32,28,65,42,43,52,43,20,29,18),\n",
        "  \"Marcelo\" : (65,62,63,41,52,78,20,25,29,30),\n",
        "}\n",
        "corredores = []\n",
        "for i in tempos:\n",
        "  sublista=[]\n",
        "  sublista.append(i)\n",
        "  sublista.append(sum(tempos[i])/len(tempos[i]))\n",
        "  corredores.append(sublista)\n",
        "\n",
        "corredores.sort(key=lambda x:x[1])\n",
        "\n",
        "print(corredores)\n",
        "print(corredores[0][0])\n",
        "\n",
        "# for nome,tempo in tempos.items():\n",
        "#   média = sum(tempo)/len(tempo)\n",
        "#   médias_corredores.append(média)\n",
        "#   corredores.append(nome)\n",
        "\n",
        "# print(médias_corredores)\n",
        "# print(corredores)"
      ]
    },
    {
      "cell_type": "markdown",
      "metadata": {
        "id": "_w3xSgF0Mm3z"
      },
      "source": [
        "**4)** Escreva um programa para armazenar uma agenda de telefones em um dicionário. Cada pessoa pode ter um ou mais telefones e a chave do dicionário é o nome da pessoa. Seu programa deve ter as seguintes funções:\n",
        "- incluirNovoNome: essa função acrescenta um novo nome na agenda, com um ou mais telefones. Ela deve receber como argumentos o nome e os telefones.\n",
        "- incluirTelefone: essa função acrescenta um telefone em um nome existente na agenda. Caso o nome não exista na agenda, você deve perguntar se a pessoa deseja incluí-lo. Caso a resposta seja afirmativa, use a função anterior para incluir o novo nome.\n",
        "- excluirTelefone: essa função exclui um telefone de uma pessoa que já está na agenda. Se a pessoa tiver apenas um telefone, ela deve ser excluída da agenda.\n",
        "- excluirNome: essa função exclui uma pessoa da agenda.\n",
        "- consultarTelefone – essa função retorna os telefones de uma pessoa na agenda. "
      ]
    },
    {
      "cell_type": "code",
      "execution_count": 47,
      "metadata": {
        "id": "QWCnWTDaMm30"
      },
      "outputs": [
        {
          "data": {
            "text/plain": [
              "False"
            ]
          },
          "execution_count": 47,
          "metadata": {},
          "output_type": "execute_result"
        }
      ],
      "source": [
        "a = \"3,4\"\n",
        "a.isdigit()"
      ]
    },
    {
      "cell_type": "markdown",
      "metadata": {
        "id": "CHEZOA8eMm30"
      },
      "source": [
        "## 🌌 O futuro... 🌌 <a class=\"anchor\" id=\"cinco\"></a>\n",
        "\n",
        "&emsp; Vimos hoje as últimas formas nativas de se estruturar dados com Python, mas claro que esse conceito vai muuuito além do que vimos! Temos listas ligadas, _hashmaps_, matrizes esparsas, grafos, árvores binárias e diversas outras maneiras de estruturar nossos dados de forma que a visualização e processamento seja a mais eficiênte para o problema que estivermos atacando. Normalmente o conhecimento de estrutura de dados anda de mão dadas com os algoritimos de percorrimento dessas estruturas (na aula de hoje utilizamos os _fors_ para essa tarefa). <br>\n",
        "&emsp; Caso se interessem pelo conteúdo e tenham curiosidade/necessidade de conhecer mais a respeito me perguntem pelo meio que se sentirem mais confortáveis! 🚀 \n",
        "\n",
        "# Acabooou! 🎉 Agradeço pela atenção de todos! 😄\n",
        "## Qualquer dúvida não hesitem em me chamar. 👩‍💻"
      ]
    }
  ],
  "metadata": {
    "colab": {
      "collapsed_sections": [],
      "name": "Aula 4  - Dicionários e Tuplas.ipynb",
      "provenance": []
    },
    "interpreter": {
      "hash": "271bb67c8720bb6fea551e7f1097136457ebf556b2d712ef0b1c5b4b43a71b2e"
    },
    "kernelspec": {
      "display_name": "Python 3.10.2 64-bit",
      "language": "python",
      "name": "python3"
    },
    "language_info": {
      "codemirror_mode": {
        "name": "ipython",
        "version": 3
      },
      "file_extension": ".py",
      "mimetype": "text/x-python",
      "name": "python",
      "nbconvert_exporter": "python",
      "pygments_lexer": "ipython3",
      "version": "3.10.2"
    }
  },
  "nbformat": 4,
  "nbformat_minor": 0
}
